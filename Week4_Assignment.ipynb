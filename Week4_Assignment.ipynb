{
  "nbformat": 4,
  "nbformat_minor": 0,
  "metadata": {
    "colab": {
      "provenance": []
    },
    "kernelspec": {
      "name": "python3",
      "display_name": "Python 3"
    },
    "language_info": {
      "name": "python"
    }
  },
  "cells": [
    {
      "cell_type": "markdown",
      "source": [
        "'1). Write a Python program to check whether a string is a palindrome or not using a stack.\n"
      ],
      "metadata": {
        "id": "MszS5_oCSSub"
      }
    },
    {
      "cell_type": "code",
      "execution_count": null,
      "metadata": {
        "id": "t5pHzCpO6EiU"
      },
      "outputs": [],
      "source": [
        "class Stack:\n",
        "  def __init__(self):\n",
        "    self.items = []\n",
        "\n",
        "  def isEmpty(self):\n",
        "    return self.items == []\n",
        "\n",
        "  def push(self, item):\n",
        "    self.items.append(item)\n",
        "\n",
        "  def size(self):\n",
        "    return len(self.items)\n",
        "\n",
        "  def show(self):\n",
        "    return self.items\n",
        "\n",
        "  def peek(self):\n",
        "    return self.items[-1]\n",
        "\n",
        "  def pop(self):\n",
        "    assert not self.isEmpty()\n",
        "    return self.items.pop()\n",
        "\n",
        "\n",
        "\n"
      ]
    },
    {
      "cell_type": "code",
      "source": [
        "\n",
        "\n",
        "a = input(\"Enter your word: \")\n",
        "s = Stack();\n",
        "for i in a:\n",
        "  s.push(i)\n",
        "\n",
        "new_word = \"\"\n",
        "while not s.isEmpty():\n",
        "  new_word += s.pop()\n",
        "\n",
        "if a == new_word:\n",
        "  print(a, \"is a palindrome\")\n",
        "else:\n",
        "  print(a, \"is not a palindrome\")\n"
      ],
      "metadata": {
        "colab": {
          "base_uri": "https://localhost:8080/"
        },
        "id": "oqTCXuMA6cxn",
        "outputId": "3fe5701a-6edc-405b-a6d2-3cbd99a7e55c"
      },
      "execution_count": null,
      "outputs": [
        {
          "output_type": "stream",
          "name": "stdout",
          "text": [
            "Enter your word: mom\n",
            "mom is a palindrome\n"
          ]
        }
      ]
    },
    {
      "cell_type": "markdown",
      "source": [
        "2). Explain the concept of list comprehension in Python with at least three examples.\n"
      ],
      "metadata": {
        "id": "7sp8UE_VSZN5"
      }
    },
    {
      "cell_type": "code",
      "source": [
        "names = ['brigit', 'shanice', 'bride', 'banice']\n",
        "names2 = [x for x in names if \"b\" in x]\n",
        "print(names2)"
      ],
      "metadata": {
        "colab": {
          "base_uri": "https://localhost:8080/"
        },
        "id": "v3bATEE2D35S",
        "outputId": "85808fe5-faca-42f5-fdc4-a35f4a8b2ec7"
      },
      "execution_count": null,
      "outputs": [
        {
          "output_type": "stream",
          "name": "stdout",
          "text": [
            "['brigit', 'bride', 'banice']\n"
          ]
        }
      ]
    },
    {
      "cell_type": "code",
      "source": [
        "num = [x for x in range(11) if x % 2 ==0]\n",
        "print(num)"
      ],
      "metadata": {
        "colab": {
          "base_uri": "https://localhost:8080/"
        },
        "id": "Cim1DRWzAybu",
        "outputId": "87dfad7d-7ca8-4cfd-d126-2b11250c72d4"
      },
      "execution_count": null,
      "outputs": [
        {
          "output_type": "stream",
          "name": "stdout",
          "text": [
            "[0, 2, 4, 6, 8, 10]\n"
          ]
        }
      ]
    },
    {
      "cell_type": "code",
      "source": [
        "rev = [x for x in reversed(range(1,11))]\n",
        "print(rev)"
      ],
      "metadata": {
        "colab": {
          "base_uri": "https://localhost:8080/"
        },
        "id": "ZQFSZgzfAyX4",
        "outputId": "de2234c6-aea8-49fb-a664-5f8370baa51c"
      },
      "execution_count": null,
      "outputs": [
        {
          "output_type": "stream",
          "name": "stdout",
          "text": [
            "[10, 9, 8, 7, 6, 5, 4, 3, 2, 1]\n"
          ]
        }
      ]
    },
    {
      "cell_type": "markdown",
      "source": [
        "3). Explain what a compound datatype is in Python with three examples.\n"
      ],
      "metadata": {
        "id": "nK2-Xwh0ShK1"
      }
    },
    {
      "cell_type": "code",
      "source": [
        "lists = ['pineapple', 24, 'orange', 'shanice']\n",
        "my_dictionary = {'name': 'brigit', 'temp': 20, 'statistics': 65, 'language': 'python'}\n",
        "mytuple = (34, 56, 78, 90)\n",
        "print(lists)\n",
        "print(my_dictionary)\n",
        "print(mytuple)\n"
      ],
      "metadata": {
        "colab": {
          "base_uri": "https://localhost:8080/"
        },
        "id": "T4Rg4TEZAyUj",
        "outputId": "55607cd6-b227-40fc-cb03-66c7e0209305"
      },
      "execution_count": null,
      "outputs": [
        {
          "output_type": "stream",
          "name": "stdout",
          "text": [
            "['pineapple', 24, 'orange', 'shanice']\n",
            "{'name': 'brigit', 'temp': 20, 'statistics': 65, 'language': 'python'}\n",
            "(34, 56, 78, 90)\n"
          ]
        }
      ]
    },
    {
      "cell_type": "markdown",
      "source": [
        "4). Write a function that takes a string and returns a list of bigrams."
      ],
      "metadata": {
        "id": "k5lJWJo_Snt-"
      }
    },
    {
      "cell_type": "code",
      "source": [
        "sentence = [\"My name is brigit melbride\", \"am a self taught data scientist\"]\n",
        "bigrams = [b for l in sentence for b in zip(l.split(\" \")[:-1], l.split(\" \")[1:])]\n",
        "print(bigrams)\n"
      ],
      "metadata": {
        "id": "m5sDovlbAySU",
        "colab": {
          "base_uri": "https://localhost:8080/"
        },
        "outputId": "39b9ea4f-620c-46cd-9502-abd58406b624"
      },
      "execution_count": 3,
      "outputs": [
        {
          "output_type": "stream",
          "name": "stdout",
          "text": [
            "[('My', 'name'), ('name', 'is'), ('is', 'brigit'), ('brigit', 'melbride'), ('am', 'a'), ('a', 'self'), ('self', 'taught'), ('taught', 'data'), ('data', 'scientist')]\n"
          ]
        }
      ]
    },
    {
      "cell_type": "markdown",
      "source": [
        "5). Given a dictionary with keys as letters and values as lists of letters, write a function closest_key to find the key with the input value closest to the beginning of the list."
      ],
      "metadata": {
        "id": "ELTOD0tyStve"
      }
    },
    {
      "cell_type": "code",
      "source": [
        "test_dict = {5: 'A', 10: 'B', 20: 'C', 25: 'D'}\n",
        "search_key = 18\n",
        "\n",
        "print(\"The original dictionary is : \" + str(test_dict))\n",
        "\n",
        "res = test_dict.get(search_key) or test_dict[\n",
        "      min(test_dict.keys(), key=lambda key: abs(key-search_key))]\n",
        "\n",
        "print(\"The value to the closest key : \" + str(res))\n"
      ],
      "metadata": {
        "colab": {
          "base_uri": "https://localhost:8080/"
        },
        "id": "kkglsl61NUo9",
        "outputId": "6893d71e-ae82-4f04-fa7f-b18e1882a5a4"
      },
      "execution_count": 4,
      "outputs": [
        {
          "output_type": "stream",
          "name": "stdout",
          "text": [
            "The original dictionary is : {5: 'A', 10: 'B', 20: 'C', 25: 'D'}\n",
            "The value to the closest key : C\n"
          ]
        }
      ]
    },
    {
      "cell_type": "code",
      "source": [],
      "metadata": {
        "id": "aMBMqC_LNUea"
      },
      "execution_count": null,
      "outputs": []
    }
  ]
}